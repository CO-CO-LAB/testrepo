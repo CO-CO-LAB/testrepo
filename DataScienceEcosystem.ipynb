{
 "cells": [
  {
   "cell_type": "markdown",
   "id": "693bc650-6626-4cb0-a6e2-df1eb933332a",
   "metadata": {},
   "source": [
    "#  Data Science Tools and Ecosystem"
   ]
  },
  {
   "cell_type": "markdown",
   "id": "f69e1d29-e95a-4e71-8cdb-f842276634de",
   "metadata": {},
   "source": [
    "In this notebook, Data Science Tools and Ecosystem are summarized."
   ]
  },
  {
   "cell_type": "markdown",
   "id": "887be674-1bf7-480e-a562-1ca9b9df4e17",
   "metadata": {},
   "source": [
    "**Objectives:**\n"
   ]
  },
  {
   "cell_type": "markdown",
   "id": "28309c69-4688-4d57-b2a6-b972784fdd67",
   "metadata": {},
   "source": [
    "Some of the popular languages that Data Scientists use are:\n",
    "1. Python\n",
    "2. R\n",
    "3. Java\n",
    "4. Julia\n",
    "5. SQL\n",
    "6. Scala"
   ]
  },
  {
   "cell_type": "markdown",
   "id": "bc2bff2c-acda-4aa8-ac9b-1f77d7f0dc61",
   "metadata": {},
   "source": [
    "Some of the commonly used libraries used by Data Scientists include:\n",
    "1. Matplotlib\n",
    "1. NumPy\n",
    "1. Pandas\n",
    "1. Scikit-learn\n",
    "1. Pytorch\n",
    "1. Tensorflow\n",
    "1. Plotly"
   ]
  },
  {
   "cell_type": "markdown",
   "id": "d0706fac-0135-4ad5-9977-190430ecdd9d",
   "metadata": {},
   "source": [
    "|Data Science Tools|\n",
    "|------|\n",
    "|Anaconda|\n",
    "|Watson Studio|\n",
    "|Jupiter Lab|"
   ]
  },
  {
   "cell_type": "markdown",
   "id": "5b3b48ea-d853-40f4-9d9f-bb20945bb2f1",
   "metadata": {},
   "source": [
    "### Below are a few examples of evaluating arithmetic expressions in Python"
   ]
  },
  {
   "cell_type": "code",
   "execution_count": 2,
   "id": "76fa3e00-76b9-4d2f-b8f7-5a11a2aaecd2",
   "metadata": {},
   "outputs": [
    {
     "data": {
      "text/plain": [
       "17"
      ]
     },
     "execution_count": 2,
     "metadata": {},
     "output_type": "execute_result"
    }
   ],
   "source": [
    "# This a simple arithmetic expression to multiply then add integers\n",
    "(3*4)+5"
   ]
  },
  {
   "cell_type": "code",
   "execution_count": 5,
   "id": "421ec50c-9316-4fdb-936c-a34a5fb95f79",
   "metadata": {},
   "outputs": [
    {
     "name": "stdout",
     "output_type": "stream",
     "text": [
      "200 minutes is equal to 3.3333333333333335 hours\n"
     ]
    }
   ],
   "source": [
    "# This will convert 200 minutes to hours by diving by 60\n",
    "a=200/60\n",
    "print(f\"200 minutes is equal to {a} hours\")"
   ]
  },
  {
   "cell_type": "markdown",
   "id": "ed35aa75-f65e-4864-aff1-543c4017b48d",
   "metadata": {},
   "source": [
    "**Objectives:**\n",
    "List popular languages for Data Science\n",
    "* Python\n",
    "* R\n",
    "* SQL\n",
    "* Java\n",
    "* Scala"
   ]
  },
  {
   "cell_type": "markdown",
   "id": "1f803c00-c865-4793-957f-6eb977800a6c",
   "metadata": {},
   "source": [
    "## Author\n",
    "Narges Sok"
   ]
  },
  {
   "cell_type": "code",
   "execution_count": null,
   "id": "842a9041-a663-4d86-964d-e8acd59d7f11",
   "metadata": {},
   "outputs": [],
   "source": []
  }
 ],
 "metadata": {
  "kernelspec": {
   "display_name": "Python 3 (ipykernel)",
   "language": "python",
   "name": "python3"
  },
  "language_info": {
   "codemirror_mode": {
    "name": "ipython",
    "version": 3
   },
   "file_extension": ".py",
   "mimetype": "text/x-python",
   "name": "python",
   "nbconvert_exporter": "python",
   "pygments_lexer": "ipython3",
   "version": "3.11.7"
  }
 },
 "nbformat": 4,
 "nbformat_minor": 5
}
